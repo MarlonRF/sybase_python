{
 "cells": [
  {
   "cell_type": "code",
   "execution_count": 2,
   "metadata": {},
   "outputs": [],
   "source": [
    "import jaydebeapi\n",
    "import pandas as pd\n",
    "import os\n",
    "\n",
    "# define o caminho para a diretorio do java\n",
    "os.environ['JAVA_HOME'] = r'C:\\Program Files\\Java\\jre-1.8\\bin'"
   ]
  },
  {
   "cell_type": "code",
   "execution_count": null,
   "metadata": {},
   "outputs": [],
   "source": [
    "import jaydebeapi\n",
    "import pandas as pd\n",
    "\n",
    "server = \"111.111.111.111\"\n",
    "username = \"usuário\"\n",
    "password = \"senha\"\n",
    "database = \"nome_databse\"\n",
    "port = 5000\n",
    "\n",
    "jdbc_driver = r'C:\\Users\\<LOCAL DO DRIVER>\\jconn4.jar' \n",
    "\n",
    "conn = jaydebeapi.connect('com.sybase.jdbc4.jdbc.SybDriver',\n",
    "                          f\"jdbc:sybase:Tds:{server}:{port}/{database}\",\n",
    "                          {'user': username, 'password': password},\n",
    "                          jdbc_driver)\n",
    "\n",
    "cursor = conn.cursor()"
   ]
  },
  {
   "cell_type": "code",
   "execution_count": null,
   "metadata": {},
   "outputs": [],
   "source": [
    "sql = \"SELECT * from DIM_PESSOA_XMLUSP\"  # Query\n",
    "df = pd.read_sql(sql, conn)"
   ]
  },
  {
   "cell_type": "code",
   "execution_count": 27,
   "metadata": {},
   "outputs": [],
   "source": [
    "df['imgarqxml'] = df['imgarqxml'].apply(io.BytesIO) # converter o JavaBytes em PythonBytes, caso contrário o pickle não salva"
   ]
  },
  {
   "cell_type": "code",
   "execution_count": 8,
   "metadata": {},
   "outputs": [],
   "source": [
    "#Teste de conversão \n",
    "zip = zipfile.ZipFile(io.BytesIO(df['imgarqxml'][1]), 'r')\n",
    "xml = zip.read(zip.namelist()[0])"
   ]
  }
 ],
 "metadata": {
  "kernelspec": {
   "display_name": "Python 3",
   "language": "python",
   "name": "python3"
  },
  "language_info": {
   "codemirror_mode": {
    "name": "ipython",
    "version": 3
   },
   "file_extension": ".py",
   "mimetype": "text/x-python",
   "name": "python",
   "nbconvert_exporter": "python",
   "pygments_lexer": "ipython3",
   "version": "3.11.7"
  },
  "orig_nbformat": 4
 },
 "nbformat": 4,
 "nbformat_minor": 2
}
